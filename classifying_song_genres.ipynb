{
 "cells": [
  {
   "cell_type": "code",
   "execution_count": 5,
   "metadata": {
    "colab": {
     "base_uri": "https://localhost:8080/",
     "height": 277
    },
    "colab_type": "code",
    "dc": {
     "key": "3"
    },
    "executionInfo": {
     "elapsed": 2228,
     "status": "ok",
     "timestamp": 1576706804820,
     "user": {
      "displayName": "Мария Лазаренко",
      "photoUrl": "https://lh3.googleusercontent.com/a-/AAuE7mAxyLUCp2Ubw14ru4QtRXGyavQuiz6JTnclgQJNrw=s64",
      "userId": "14239114489254033998"
     },
     "user_tz": -180
    },
    "id": "_2FlDEEgW4j-",
    "outputId": "fa4ce473-900d-455c-a378-3f7305984f23",
    "tags": [
     "sample_code"
    ]
   },
   "outputs": [
    {
     "name": "stdout",
     "output_type": "stream",
     "text": [
      "<class 'pandas.core.frame.DataFrame'>\n",
      "Int64Index: 4802 entries, 0 to 4801\n",
      "Data columns (total 10 columns):\n",
      "track_id            4802 non-null int64\n",
      "acousticness        4802 non-null float64\n",
      "danceability        4802 non-null float64\n",
      "energy              4802 non-null float64\n",
      "instrumentalness    4802 non-null float64\n",
      "liveness            4802 non-null float64\n",
      "speechiness         4802 non-null float64\n",
      "tempo               4802 non-null float64\n",
      "valence             4802 non-null float64\n",
      "genre_top           4802 non-null object\n",
      "dtypes: float64(8), int64(1), object(1)\n",
      "memory usage: 412.7+ KB\n"
     ]
    }
   ],
   "source": [
    "import pandas as pd\n",
    "\n",
    "# прочитаем метаданные по всем трекам с колонкой жанра\n",
    "tracks = pd.read_csv('fma-rock-vs-hiphop.csv')\n",
    "\n",
    "# прочитаем метрику с признаками, по которым будем классифицировать\n",
    "echonest_metrics = pd.read_json('echonest-metrics.json', precise_float = True)\n",
    "\n",
    "# объединим необходимые колонки из tracks и метрику в одном датасете\n",
    "echo_tracks = echonest_metrics.merge(tracks[['track_id', 'genre_top']], on='track_id')\n",
    "\n",
    "\n",
    "echo_tracks.info()"
   ]
  },
  {
   "cell_type": "code",
   "execution_count": null,
   "metadata": {
    "colab": {
     "base_uri": "https://localhost:8080/",
     "height": 202
    },
    "colab_type": "code",
    "executionInfo": {
     "elapsed": 1150,
     "status": "ok",
     "timestamp": 1576706919015,
     "user": {
      "displayName": "Мария Лазаренко",
      "photoUrl": "https://lh3.googleusercontent.com/a-/AAuE7mAxyLUCp2Ubw14ru4QtRXGyavQuiz6JTnclgQJNrw=s64",
      "userId": "14239114489254033998"
     },
     "user_tz": -180
    },
    "id": "ngop_sEmDiCU",
    "outputId": "4ed248e0-3eeb-4b56-c0c5-182b3e20e8f3"
   },
   "outputs": [
    {
     "data": {
      "text/html": [
       "<div>\n",
       "<style scoped>\n",
       "    .dataframe tbody tr th:only-of-type {\n",
       "        vertical-align: middle;\n",
       "    }\n",
       "\n",
       "    .dataframe tbody tr th {\n",
       "        vertical-align: top;\n",
       "    }\n",
       "\n",
       "    .dataframe thead th {\n",
       "        text-align: right;\n",
       "    }\n",
       "</style>\n",
       "<table border=\"1\" class=\"dataframe\">\n",
       "  <thead>\n",
       "    <tr style=\"text-align: right;\">\n",
       "      <th></th>\n",
       "      <th>track_id</th>\n",
       "      <th>acousticness</th>\n",
       "      <th>danceability</th>\n",
       "      <th>energy</th>\n",
       "      <th>instrumentalness</th>\n",
       "      <th>liveness</th>\n",
       "      <th>speechiness</th>\n",
       "      <th>tempo</th>\n",
       "      <th>valence</th>\n",
       "      <th>genre_top</th>\n",
       "    </tr>\n",
       "  </thead>\n",
       "  <tbody>\n",
       "    <tr>\n",
       "      <th>0</th>\n",
       "      <td>2</td>\n",
       "      <td>0.416675</td>\n",
       "      <td>0.675894</td>\n",
       "      <td>0.634476</td>\n",
       "      <td>0.010628</td>\n",
       "      <td>0.177647</td>\n",
       "      <td>0.159310</td>\n",
       "      <td>165.922</td>\n",
       "      <td>0.576661</td>\n",
       "      <td>Hip-Hop</td>\n",
       "    </tr>\n",
       "    <tr>\n",
       "      <th>1</th>\n",
       "      <td>3</td>\n",
       "      <td>0.374408</td>\n",
       "      <td>0.528643</td>\n",
       "      <td>0.817461</td>\n",
       "      <td>0.001851</td>\n",
       "      <td>0.105880</td>\n",
       "      <td>0.461818</td>\n",
       "      <td>126.957</td>\n",
       "      <td>0.269240</td>\n",
       "      <td>Hip-Hop</td>\n",
       "    </tr>\n",
       "    <tr>\n",
       "      <th>2</th>\n",
       "      <td>5</td>\n",
       "      <td>0.043567</td>\n",
       "      <td>0.745566</td>\n",
       "      <td>0.701470</td>\n",
       "      <td>0.000697</td>\n",
       "      <td>0.373143</td>\n",
       "      <td>0.124595</td>\n",
       "      <td>100.260</td>\n",
       "      <td>0.621661</td>\n",
       "      <td>Hip-Hop</td>\n",
       "    </tr>\n",
       "    <tr>\n",
       "      <th>3</th>\n",
       "      <td>134</td>\n",
       "      <td>0.452217</td>\n",
       "      <td>0.513238</td>\n",
       "      <td>0.560410</td>\n",
       "      <td>0.019443</td>\n",
       "      <td>0.096567</td>\n",
       "      <td>0.525519</td>\n",
       "      <td>114.290</td>\n",
       "      <td>0.894072</td>\n",
       "      <td>Hip-Hop</td>\n",
       "    </tr>\n",
       "    <tr>\n",
       "      <th>4</th>\n",
       "      <td>153</td>\n",
       "      <td>0.988306</td>\n",
       "      <td>0.255661</td>\n",
       "      <td>0.979774</td>\n",
       "      <td>0.973006</td>\n",
       "      <td>0.121342</td>\n",
       "      <td>0.051740</td>\n",
       "      <td>90.241</td>\n",
       "      <td>0.034018</td>\n",
       "      <td>Rock</td>\n",
       "    </tr>\n",
       "  </tbody>\n",
       "</table>\n",
       "</div>"
      ],
      "text/plain": [
       "   track_id  acousticness  danceability  ...    tempo   valence  genre_top\n",
       "0         2      0.416675      0.675894  ...  165.922  0.576661    Hip-Hop\n",
       "1         3      0.374408      0.528643  ...  126.957  0.269240    Hip-Hop\n",
       "2         5      0.043567      0.745566  ...  100.260  0.621661    Hip-Hop\n",
       "3       134      0.452217      0.513238  ...  114.290  0.894072    Hip-Hop\n",
       "4       153      0.988306      0.255661  ...   90.241  0.034018       Rock\n",
       "\n",
       "[5 rows x 10 columns]"
      ]
     },
     "execution_count": 9,
     "metadata": {
      "tags": []
     },
     "output_type": "execute_result"
    }
   ],
   "source": [
    "echo_tracks.head()"
   ]
  },
  {
   "cell_type": "code",
   "execution_count": null,
   "metadata": {
    "colab": {
     "base_uri": "https://localhost:8080/",
     "height": 363
    },
    "colab_type": "code",
    "executionInfo": {
     "elapsed": 1592,
     "status": "ok",
     "timestamp": 1576708553880,
     "user": {
      "displayName": "Мария Лазаренко",
      "photoUrl": "https://lh3.googleusercontent.com/a-/AAuE7mAxyLUCp2Ubw14ru4QtRXGyavQuiz6JTnclgQJNrw=s64",
      "userId": "14239114489254033998"
     },
     "user_tz": -180
    },
    "id": "l5wIci4qJtn8",
    "outputId": "8d99cc53-b406-4e4f-e753-7bc019b1a3e1"
   },
   "outputs": [
    {
     "data": {
      "text/plain": [
       "<matplotlib.axes._subplots.AxesSubplot at 0x7ffa21c54b38>"
      ]
     },
     "execution_count": 16,
     "metadata": {
      "tags": []
     },
     "output_type": "execute_result"
    },
    {
     "data": {
      "image/png": "[encoded data removed]",
      "text/plain": [
       "<Figure size 432x288 with 1 Axes>"
      ]
     },
     "metadata": {
      "tags": []
     },
     "output_type": "display_data"
    }
   ],
   "source": [
    "# проверяем missing values\n",
    "import seaborn as sns\n",
    "sns.heatmap(echo_tracks.isnull(), cbar=False)"
   ]
  },
  {
   "cell_type": "code",
   "execution_count": null,
   "metadata": {
    "colab": {
     "base_uri": "https://localhost:8080/",
     "height": 226
    },
    "colab_type": "code",
    "dc": {
     "key": "10"
    },
    "executionInfo": {
     "elapsed": 1054,
     "status": "ok",
     "timestamp": 1576710467772,
     "user": {
      "displayName": "Мария Лазаренко",
      "photoUrl": "https://lh3.googleusercontent.com/a-/AAuE7mAxyLUCp2Ubw14ru4QtRXGyavQuiz6JTnclgQJNrw=s64",
      "userId": "14239114489254033998"
     },
     "user_tz": -180
    },
    "id": "nSRePBD7W4kI",
    "outputId": "98b4ece5-eed6-427f-c1c9-444a840e9621",
    "tags": [
     "sample_code"
    ]
   },
   "outputs": [
    {
     "data": {
      "text/html": [
       "<style  type=\"text/css\" >\n",
       "    #T_34777ebe_21eb_11ea_aac7_0242ac1c0002row0_col0 {\n",
       "            background-color:  #023858;\n",
       "            color:  #f1f1f1;\n",
       "        }    #T_34777ebe_21eb_11ea_aac7_0242ac1c0002row0_col1 {\n",
       "            background-color:  #fff7fb;\n",
       "            color:  #000000;\n",
       "        }    #T_34777ebe_21eb_11ea_aac7_0242ac1c0002row0_col2 {\n",
       "            background-color:  #d2d2e7;\n",
       "            color:  #000000;\n",
       "        }    #T_34777ebe_21eb_11ea_aac7_0242ac1c0002row0_col3 {\n",
       "            background-color:  #b5c4df;\n",
       "            color:  #000000;\n",
       "        }    #T_34777ebe_21eb_11ea_aac7_0242ac1c0002row0_col4 {\n",
       "            background-color:  #f5eef6;\n",
       "            color:  #000000;\n",
       "        }    #T_34777ebe_21eb_11ea_aac7_0242ac1c0002row0_col5 {\n",
       "            background-color:  #e9e5f1;\n",
       "            color:  #000000;\n",
       "        }    #T_34777ebe_21eb_11ea_aac7_0242ac1c0002row0_col6 {\n",
       "            background-color:  #d1d2e6;\n",
       "            color:  #000000;\n",
       "        }    #T_34777ebe_21eb_11ea_aac7_0242ac1c0002row0_col7 {\n",
       "            background-color:  #e1dfed;\n",
       "            color:  #000000;\n",
       "        }    #T_34777ebe_21eb_11ea_aac7_0242ac1c0002row0_col8 {\n",
       "            background-color:  #dedcec;\n",
       "            color:  #000000;\n",
       "        }    #T_34777ebe_21eb_11ea_aac7_0242ac1c0002row1_col0 {\n",
       "            background-color:  #fff7fb;\n",
       "            color:  #000000;\n",
       "        }    #T_34777ebe_21eb_11ea_aac7_0242ac1c0002row1_col1 {\n",
       "            background-color:  #023858;\n",
       "            color:  #f1f1f1;\n",
       "        }    #T_34777ebe_21eb_11ea_aac7_0242ac1c0002row1_col2 {\n",
       "            background-color:  #e0dded;\n",
       "            color:  #000000;\n",
       "        }    #T_34777ebe_21eb_11ea_aac7_0242ac1c0002row1_col3 {\n",
       "            background-color:  #fff7fb;\n",
       "            color:  #000000;\n",
       "        }    #T_34777ebe_21eb_11ea_aac7_0242ac1c0002row1_col4 {\n",
       "            background-color:  #97b7d7;\n",
       "            color:  #000000;\n",
       "        }    #T_34777ebe_21eb_11ea_aac7_0242ac1c0002row1_col5 {\n",
       "            background-color:  #f3edf5;\n",
       "            color:  #000000;\n",
       "        }    #T_34777ebe_21eb_11ea_aac7_0242ac1c0002row1_col6 {\n",
       "            background-color:  #b8c6e0;\n",
       "            color:  #000000;\n",
       "        }    #T_34777ebe_21eb_11ea_aac7_0242ac1c0002row1_col7 {\n",
       "            background-color:  #e1dfed;\n",
       "            color:  #000000;\n",
       "        }    #T_34777ebe_21eb_11ea_aac7_0242ac1c0002row1_col8 {\n",
       "            background-color:  #e2dfee;\n",
       "            color:  #000000;\n",
       "        }    #T_34777ebe_21eb_11ea_aac7_0242ac1c0002row2_col0 {\n",
       "            background-color:  #bdc8e1;\n",
       "            color:  #000000;\n",
       "        }    #T_34777ebe_21eb_11ea_aac7_0242ac1c0002row2_col1 {\n",
       "            background-color:  #d0d1e6;\n",
       "            color:  #000000;\n",
       "        }    #T_34777ebe_21eb_11ea_aac7_0242ac1c0002row2_col2 {\n",
       "            background-color:  #023858;\n",
       "            color:  #f1f1f1;\n",
       "        }    #T_34777ebe_21eb_11ea_aac7_0242ac1c0002row2_col3 {\n",
       "            background-color:  #fbf3f9;\n",
       "            color:  #000000;\n",
       "        }    #T_34777ebe_21eb_11ea_aac7_0242ac1c0002row2_col4 {\n",
       "            background-color:  #f3edf5;\n",
       "            color:  #000000;\n",
       "        }    #T_34777ebe_21eb_11ea_aac7_0242ac1c0002row2_col5 {\n",
       "            background-color:  #fff7fb;\n",
       "            color:  #000000;\n",
       "        }    #T_34777ebe_21eb_11ea_aac7_0242ac1c0002row2_col6 {\n",
       "            background-color:  #80aed2;\n",
       "            color:  #000000;\n",
       "        }    #T_34777ebe_21eb_11ea_aac7_0242ac1c0002row2_col7 {\n",
       "            background-color:  #fff7fb;\n",
       "            color:  #000000;\n",
       "        }    #T_34777ebe_21eb_11ea_aac7_0242ac1c0002row2_col8 {\n",
       "            background-color:  #529bc7;\n",
       "            color:  #000000;\n",
       "        }    #T_34777ebe_21eb_11ea_aac7_0242ac1c0002row3_col0 {\n",
       "            background-color:  #a7bddb;\n",
       "            color:  #000000;\n",
       "        }    #T_34777ebe_21eb_11ea_aac7_0242ac1c0002row3_col1 {\n",
       "            background-color:  #f5eff6;\n",
       "            color:  #000000;\n",
       "        }    #T_34777ebe_21eb_11ea_aac7_0242ac1c0002row3_col2 {\n",
       "            background-color:  #fef6fa;\n",
       "            color:  #000000;\n",
       "        }    #T_34777ebe_21eb_11ea_aac7_0242ac1c0002row3_col3 {\n",
       "            background-color:  #023858;\n",
       "            color:  #f1f1f1;\n",
       "        }    #T_34777ebe_21eb_11ea_aac7_0242ac1c0002row3_col4 {\n",
       "            background-color:  #c4cbe3;\n",
       "            color:  #000000;\n",
       "        }    #T_34777ebe_21eb_11ea_aac7_0242ac1c0002row3_col5 {\n",
       "            background-color:  #dcdaeb;\n",
       "            color:  #000000;\n",
       "        }    #T_34777ebe_21eb_11ea_aac7_0242ac1c0002row3_col6 {\n",
       "            background-color:  #dedcec;\n",
       "            color:  #000000;\n",
       "        }    #T_34777ebe_21eb_11ea_aac7_0242ac1c0002row3_col7 {\n",
       "            background-color:  #adc1dd;\n",
       "            color:  #000000;\n",
       "        }    #T_34777ebe_21eb_11ea_aac7_0242ac1c0002row3_col8 {\n",
       "            background-color:  #d9d8ea;\n",
       "            color:  #000000;\n",
       "        }    #T_34777ebe_21eb_11ea_aac7_0242ac1c0002row4_col0 {\n",
       "            background-color:  #f4eef6;\n",
       "            color:  #000000;\n",
       "        }    #T_34777ebe_21eb_11ea_aac7_0242ac1c0002row4_col1 {\n",
       "            background-color:  #97b7d7;\n",
       "            color:  #000000;\n",
       "        }    #T_34777ebe_21eb_11ea_aac7_0242ac1c0002row4_col2 {\n",
       "            background-color:  #fff7fb;\n",
       "            color:  #000000;\n",
       "        }    #T_34777ebe_21eb_11ea_aac7_0242ac1c0002row4_col3 {\n",
       "            background-color:  #d2d3e7;\n",
       "            color:  #000000;\n",
       "        }    #T_34777ebe_21eb_11ea_aac7_0242ac1c0002row4_col4 {\n",
       "            background-color:  #023858;\n",
       "            color:  #f1f1f1;\n",
       "        }    #T_34777ebe_21eb_11ea_aac7_0242ac1c0002row4_col5 {\n",
       "            background-color:  #fdf5fa;\n",
       "            color:  #000000;\n",
       "        }    #T_34777ebe_21eb_11ea_aac7_0242ac1c0002row4_col6 {\n",
       "            background-color:  #fff7fb;\n",
       "            color:  #000000;\n",
       "        }    #T_34777ebe_21eb_11ea_aac7_0242ac1c0002row4_col7 {\n",
       "            background-color:  #d9d8ea;\n",
       "            color:  #000000;\n",
       "        }    #T_34777ebe_21eb_11ea_aac7_0242ac1c0002row4_col8 {\n",
       "            background-color:  #fff7fb;\n",
       "            color:  #000000;\n",
       "        }    #T_34777ebe_21eb_11ea_aac7_0242ac1c0002row5_col0 {\n",
       "            background-color:  #bdc8e1;\n",
       "            color:  #000000;\n",
       "        }    #T_34777ebe_21eb_11ea_aac7_0242ac1c0002row5_col1 {\n",
       "            background-color:  #ced0e6;\n",
       "            color:  #000000;\n",
       "        }    #T_34777ebe_21eb_11ea_aac7_0242ac1c0002row5_col2 {\n",
       "            background-color:  #ede8f3;\n",
       "            color:  #000000;\n",
       "        }    #T_34777ebe_21eb_11ea_aac7_0242ac1c0002row5_col3 {\n",
       "            background-color:  #bdc8e1;\n",
       "            color:  #000000;\n",
       "        }    #T_34777ebe_21eb_11ea_aac7_0242ac1c0002row5_col4 {\n",
       "            background-color:  #dbdaeb;\n",
       "            color:  #000000;\n",
       "        }    #T_34777ebe_21eb_11ea_aac7_0242ac1c0002row5_col5 {\n",
       "            background-color:  #023858;\n",
       "            color:  #f1f1f1;\n",
       "        }    #T_34777ebe_21eb_11ea_aac7_0242ac1c0002row5_col6 {\n",
       "            background-color:  #c0c9e2;\n",
       "            color:  #000000;\n",
       "        }    #T_34777ebe_21eb_11ea_aac7_0242ac1c0002row5_col7 {\n",
       "            background-color:  #dcdaeb;\n",
       "            color:  #000000;\n",
       "        }    #T_34777ebe_21eb_11ea_aac7_0242ac1c0002row5_col8 {\n",
       "            background-color:  #e8e4f0;\n",
       "            color:  #000000;\n",
       "        }    #T_34777ebe_21eb_11ea_aac7_0242ac1c0002row6_col0 {\n",
       "            background-color:  #d0d1e6;\n",
       "            color:  #000000;\n",
       "        }    #T_34777ebe_21eb_11ea_aac7_0242ac1c0002row6_col1 {\n",
       "            background-color:  #b8c6e0;\n",
       "            color:  #000000;\n",
       "        }    #T_34777ebe_21eb_11ea_aac7_0242ac1c0002row6_col2 {\n",
       "            background-color:  #93b5d6;\n",
       "            color:  #000000;\n",
       "        }    #T_34777ebe_21eb_11ea_aac7_0242ac1c0002row6_col3 {\n",
       "            background-color:  #eae6f1;\n",
       "            color:  #000000;\n",
       "        }    #T_34777ebe_21eb_11ea_aac7_0242ac1c0002row6_col4 {\n",
       "            background-color:  #fff7fb;\n",
       "            color:  #000000;\n",
       "        }    #T_34777ebe_21eb_11ea_aac7_0242ac1c0002row6_col5 {\n",
       "            background-color:  #eae6f1;\n",
       "            color:  #000000;\n",
       "        }    #T_34777ebe_21eb_11ea_aac7_0242ac1c0002row6_col6 {\n",
       "            background-color:  #023858;\n",
       "            color:  #f1f1f1;\n",
       "        }    #T_34777ebe_21eb_11ea_aac7_0242ac1c0002row6_col7 {\n",
       "            background-color:  #dbdaeb;\n",
       "            color:  #000000;\n",
       "        }    #T_34777ebe_21eb_11ea_aac7_0242ac1c0002row6_col8 {\n",
       "            background-color:  #bfc9e1;\n",
       "            color:  #000000;\n",
       "        }    #T_34777ebe_21eb_11ea_aac7_0242ac1c0002row7_col0 {\n",
       "            background-color:  #d0d1e6;\n",
       "            color:  #000000;\n",
       "        }    #T_34777ebe_21eb_11ea_aac7_0242ac1c0002row7_col1 {\n",
       "            background-color:  #d0d1e6;\n",
       "            color:  #000000;\n",
       "        }    #T_34777ebe_21eb_11ea_aac7_0242ac1c0002row7_col2 {\n",
       "            background-color:  #fef6fa;\n",
       "            color:  #000000;\n",
       "        }    #T_34777ebe_21eb_11ea_aac7_0242ac1c0002row7_col3 {\n",
       "            background-color:  #a7bddb;\n",
       "            color:  #000000;\n",
       "        }    #T_34777ebe_21eb_11ea_aac7_0242ac1c0002row7_col4 {\n",
       "            background-color:  #c5cce3;\n",
       "            color:  #000000;\n",
       "        }    #T_34777ebe_21eb_11ea_aac7_0242ac1c0002row7_col5 {\n",
       "            background-color:  #f0eaf4;\n",
       "            color:  #000000;\n",
       "        }    #T_34777ebe_21eb_11ea_aac7_0242ac1c0002row7_col6 {\n",
       "            background-color:  #c8cde4;\n",
       "            color:  #000000;\n",
       "        }    #T_34777ebe_21eb_11ea_aac7_0242ac1c0002row7_col7 {\n",
       "            background-color:  #023858;\n",
       "            color:  #f1f1f1;\n",
       "        }    #T_34777ebe_21eb_11ea_aac7_0242ac1c0002row7_col8 {\n",
       "            background-color:  #d6d6e9;\n",
       "            color:  #000000;\n",
       "        }    #T_34777ebe_21eb_11ea_aac7_0242ac1c0002row8_col0 {\n",
       "            background-color:  #c6cce3;\n",
       "            color:  #000000;\n",
       "        }    #T_34777ebe_21eb_11ea_aac7_0242ac1c0002row8_col1 {\n",
       "            background-color:  #cdd0e5;\n",
       "            color:  #000000;\n",
       "        }    #T_34777ebe_21eb_11ea_aac7_0242ac1c0002row8_col2 {\n",
       "            background-color:  #4c99c5;\n",
       "            color:  #000000;\n",
       "        }    #T_34777ebe_21eb_11ea_aac7_0242ac1c0002row8_col3 {\n",
       "            background-color:  #d1d2e6;\n",
       "            color:  #000000;\n",
       "        }    #T_34777ebe_21eb_11ea_aac7_0242ac1c0002row8_col4 {\n",
       "            background-color:  #efe9f3;\n",
       "            color:  #000000;\n",
       "        }    #T_34777ebe_21eb_11ea_aac7_0242ac1c0002row8_col5 {\n",
       "            background-color:  #f7f0f7;\n",
       "            color:  #000000;\n",
       "        }    #T_34777ebe_21eb_11ea_aac7_0242ac1c0002row8_col6 {\n",
       "            background-color:  #a5bddb;\n",
       "            color:  #000000;\n",
       "        }    #T_34777ebe_21eb_11ea_aac7_0242ac1c0002row8_col7 {\n",
       "            background-color:  #d3d4e7;\n",
       "            color:  #000000;\n",
       "        }    #T_34777ebe_21eb_11ea_aac7_0242ac1c0002row8_col8 {\n",
       "            background-color:  #023858;\n",
       "            color:  #f1f1f1;\n",
       "        }</style><table id=\"T_34777ebe_21eb_11ea_aac7_0242ac1c0002\" ><thead>    <tr>        <th class=\"blank level0\" ></th>        <th class=\"col_heading level0 col0\" >track_id</th>        <th class=\"col_heading level0 col1\" >acousticness</th>        <th class=\"col_heading level0 col2\" >danceability</th>        <th class=\"col_heading level0 col3\" >energy</th>        <th class=\"col_heading level0 col4\" >instrumentalness</th>        <th class=\"col_heading level0 col5\" >liveness</th>        <th class=\"col_heading level0 col6\" >speechiness</th>        <th class=\"col_heading level0 col7\" >tempo</th>        <th class=\"col_heading level0 col8\" >valence</th>    </tr></thead><tbody>\n",
       "                <tr>\n",
       "                        <th id=\"T_34777ebe_21eb_11ea_aac7_0242ac1c0002level0_row0\" class=\"row_heading level0 row0\" >track_id</th>\n",
       "                        <td id=\"T_34777ebe_21eb_11ea_aac7_0242ac1c0002row0_col0\" class=\"data row0 col0\" >1</td>\n",
       "                        <td id=\"T_34777ebe_21eb_11ea_aac7_0242ac1c0002row0_col1\" class=\"data row0 col1\" >-0.372282</td>\n",
       "                        <td id=\"T_34777ebe_21eb_11ea_aac7_0242ac1c0002row0_col2\" class=\"data row0 col2\" >0.0494541</td>\n",
       "                        <td id=\"T_34777ebe_21eb_11ea_aac7_0242ac1c0002row0_col3\" class=\"data row0 col3\" >0.140703</td>\n",
       "                        <td id=\"T_34777ebe_21eb_11ea_aac7_0242ac1c0002row0_col4\" class=\"data row0 col4\" >-0.275623</td>\n",
       "                        <td id=\"T_34777ebe_21eb_11ea_aac7_0242ac1c0002row0_col5\" class=\"data row0 col5\" >0.0482307</td>\n",
       "                        <td id=\"T_34777ebe_21eb_11ea_aac7_0242ac1c0002row0_col6\" class=\"data row0 col6\" >-0.0269951</td>\n",
       "                        <td id=\"T_34777ebe_21eb_11ea_aac7_0242ac1c0002row0_col7\" class=\"data row0 col7\" >-0.0253918</td>\n",
       "                        <td id=\"T_34777ebe_21eb_11ea_aac7_0242ac1c0002row0_col8\" class=\"data row0 col8\" >0.0100698</td>\n",
       "            </tr>\n",
       "            <tr>\n",
       "                        <th id=\"T_34777ebe_21eb_11ea_aac7_0242ac1c0002level0_row1\" class=\"row_heading level0 row1\" >acousticness</th>\n",
       "                        <td id=\"T_34777ebe_21eb_11ea_aac7_0242ac1c0002row1_col0\" class=\"data row1 col0\" >-0.372282</td>\n",
       "                        <td id=\"T_34777ebe_21eb_11ea_aac7_0242ac1c0002row1_col1\" class=\"data row1 col1\" >1</td>\n",
       "                        <td id=\"T_34777ebe_21eb_11ea_aac7_0242ac1c0002row1_col2\" class=\"data row1 col2\" >-0.0289537</td>\n",
       "                        <td id=\"T_34777ebe_21eb_11ea_aac7_0242ac1c0002row1_col3\" class=\"data row1 col3\" >-0.281619</td>\n",
       "                        <td id=\"T_34777ebe_21eb_11ea_aac7_0242ac1c0002row1_col4\" class=\"data row1 col4\" >0.19478</td>\n",
       "                        <td id=\"T_34777ebe_21eb_11ea_aac7_0242ac1c0002row1_col5\" class=\"data row1 col5\" >-0.0199914</td>\n",
       "                        <td id=\"T_34777ebe_21eb_11ea_aac7_0242ac1c0002row1_col6\" class=\"data row1 col6\" >0.072204</td>\n",
       "                        <td id=\"T_34777ebe_21eb_11ea_aac7_0242ac1c0002row1_col7\" class=\"data row1 col7\" >-0.0263097</td>\n",
       "                        <td id=\"T_34777ebe_21eb_11ea_aac7_0242ac1c0002row1_col8\" class=\"data row1 col8\" >-0.0138406</td>\n",
       "            </tr>\n",
       "            <tr>\n",
       "                        <th id=\"T_34777ebe_21eb_11ea_aac7_0242ac1c0002level0_row2\" class=\"row_heading level0 row2\" >danceability</th>\n",
       "                        <td id=\"T_34777ebe_21eb_11ea_aac7_0242ac1c0002row2_col0\" class=\"data row2 col0\" >0.0494541</td>\n",
       "                        <td id=\"T_34777ebe_21eb_11ea_aac7_0242ac1c0002row2_col1\" class=\"data row2 col1\" >-0.0289537</td>\n",
       "                        <td id=\"T_34777ebe_21eb_11ea_aac7_0242ac1c0002row2_col2\" class=\"data row2 col2\" >1</td>\n",
       "                        <td id=\"T_34777ebe_21eb_11ea_aac7_0242ac1c0002row2_col3\" class=\"data row2 col3\" >-0.242032</td>\n",
       "                        <td id=\"T_34777ebe_21eb_11ea_aac7_0242ac1c0002row2_col4\" class=\"data row2 col4\" >-0.255217</td>\n",
       "                        <td id=\"T_34777ebe_21eb_11ea_aac7_0242ac1c0002row2_col5\" class=\"data row2 col5\" >-0.106584</td>\n",
       "                        <td id=\"T_34777ebe_21eb_11ea_aac7_0242ac1c0002row2_col6\" class=\"data row2 col6\" >0.276206</td>\n",
       "                        <td id=\"T_34777ebe_21eb_11ea_aac7_0242ac1c0002row2_col7\" class=\"data row2 col7\" >-0.242089</td>\n",
       "                        <td id=\"T_34777ebe_21eb_11ea_aac7_0242ac1c0002row2_col8\" class=\"data row2 col8\" >0.473165</td>\n",
       "            </tr>\n",
       "            <tr>\n",
       "                        <th id=\"T_34777ebe_21eb_11ea_aac7_0242ac1c0002level0_row3\" class=\"row_heading level0 row3\" >energy</th>\n",
       "                        <td id=\"T_34777ebe_21eb_11ea_aac7_0242ac1c0002row3_col0\" class=\"data row3 col0\" >0.140703</td>\n",
       "                        <td id=\"T_34777ebe_21eb_11ea_aac7_0242ac1c0002row3_col1\" class=\"data row3 col1\" >-0.281619</td>\n",
       "                        <td id=\"T_34777ebe_21eb_11ea_aac7_0242ac1c0002row3_col2\" class=\"data row3 col2\" >-0.242032</td>\n",
       "                        <td id=\"T_34777ebe_21eb_11ea_aac7_0242ac1c0002row3_col3\" class=\"data row3 col3\" >1</td>\n",
       "                        <td id=\"T_34777ebe_21eb_11ea_aac7_0242ac1c0002row3_col4\" class=\"data row3 col4\" >0.0282377</td>\n",
       "                        <td id=\"T_34777ebe_21eb_11ea_aac7_0242ac1c0002row3_col5\" class=\"data row3 col5\" >0.113331</td>\n",
       "                        <td id=\"T_34777ebe_21eb_11ea_aac7_0242ac1c0002row3_col6\" class=\"data row3 col6\" >-0.109983</td>\n",
       "                        <td id=\"T_34777ebe_21eb_11ea_aac7_0242ac1c0002row3_col7\" class=\"data row3 col7\" >0.195227</td>\n",
       "                        <td id=\"T_34777ebe_21eb_11ea_aac7_0242ac1c0002row3_col8\" class=\"data row3 col8\" >0.0386027</td>\n",
       "            </tr>\n",
       "            <tr>\n",
       "                        <th id=\"T_34777ebe_21eb_11ea_aac7_0242ac1c0002level0_row4\" class=\"row_heading level0 row4\" >instrumentalness</th>\n",
       "                        <td id=\"T_34777ebe_21eb_11ea_aac7_0242ac1c0002row4_col0\" class=\"data row4 col0\" >-0.275623</td>\n",
       "                        <td id=\"T_34777ebe_21eb_11ea_aac7_0242ac1c0002row4_col1\" class=\"data row4 col1\" >0.19478</td>\n",
       "                        <td id=\"T_34777ebe_21eb_11ea_aac7_0242ac1c0002row4_col2\" class=\"data row4 col2\" >-0.255217</td>\n",
       "                        <td id=\"T_34777ebe_21eb_11ea_aac7_0242ac1c0002row4_col3\" class=\"data row4 col3\" >0.0282377</td>\n",
       "                        <td id=\"T_34777ebe_21eb_11ea_aac7_0242ac1c0002row4_col4\" class=\"data row4 col4\" >1</td>\n",
       "                        <td id=\"T_34777ebe_21eb_11ea_aac7_0242ac1c0002row4_col5\" class=\"data row4 col5\" >-0.0910218</td>\n",
       "                        <td id=\"T_34777ebe_21eb_11ea_aac7_0242ac1c0002row4_col6\" class=\"data row4 col6\" >-0.366762</td>\n",
       "                        <td id=\"T_34777ebe_21eb_11ea_aac7_0242ac1c0002row4_col7\" class=\"data row4 col7\" >0.022215</td>\n",
       "                        <td id=\"T_34777ebe_21eb_11ea_aac7_0242ac1c0002row4_col8\" class=\"data row4 col8\" >-0.219967</td>\n",
       "            </tr>\n",
       "            <tr>\n",
       "                        <th id=\"T_34777ebe_21eb_11ea_aac7_0242ac1c0002level0_row5\" class=\"row_heading level0 row5\" >liveness</th>\n",
       "                        <td id=\"T_34777ebe_21eb_11ea_aac7_0242ac1c0002row5_col0\" class=\"data row5 col0\" >0.0482307</td>\n",
       "                        <td id=\"T_34777ebe_21eb_11ea_aac7_0242ac1c0002row5_col1\" class=\"data row5 col1\" >-0.0199914</td>\n",
       "                        <td id=\"T_34777ebe_21eb_11ea_aac7_0242ac1c0002row5_col2\" class=\"data row5 col2\" >-0.106584</td>\n",
       "                        <td id=\"T_34777ebe_21eb_11ea_aac7_0242ac1c0002row5_col3\" class=\"data row5 col3\" >0.113331</td>\n",
       "                        <td id=\"T_34777ebe_21eb_11ea_aac7_0242ac1c0002row5_col4\" class=\"data row5 col4\" >-0.0910218</td>\n",
       "                        <td id=\"T_34777ebe_21eb_11ea_aac7_0242ac1c0002row5_col5\" class=\"data row5 col5\" >1</td>\n",
       "                        <td id=\"T_34777ebe_21eb_11ea_aac7_0242ac1c0002row5_col6\" class=\"data row5 col6\" >0.0411725</td>\n",
       "                        <td id=\"T_34777ebe_21eb_11ea_aac7_0242ac1c0002row5_col7\" class=\"data row5 col7\" >0.00273169</td>\n",
       "                        <td id=\"T_34777ebe_21eb_11ea_aac7_0242ac1c0002row5_col8\" class=\"data row5 col8\" >-0.0450931</td>\n",
       "            </tr>\n",
       "            <tr>\n",
       "                        <th id=\"T_34777ebe_21eb_11ea_aac7_0242ac1c0002level0_row6\" class=\"row_heading level0 row6\" >speechiness</th>\n",
       "                        <td id=\"T_34777ebe_21eb_11ea_aac7_0242ac1c0002row6_col0\" class=\"data row6 col0\" >-0.0269951</td>\n",
       "                        <td id=\"T_34777ebe_21eb_11ea_aac7_0242ac1c0002row6_col1\" class=\"data row6 col1\" >0.072204</td>\n",
       "                        <td id=\"T_34777ebe_21eb_11ea_aac7_0242ac1c0002row6_col2\" class=\"data row6 col2\" >0.276206</td>\n",
       "                        <td id=\"T_34777ebe_21eb_11ea_aac7_0242ac1c0002row6_col3\" class=\"data row6 col3\" >-0.109983</td>\n",
       "                        <td id=\"T_34777ebe_21eb_11ea_aac7_0242ac1c0002row6_col4\" class=\"data row6 col4\" >-0.366762</td>\n",
       "                        <td id=\"T_34777ebe_21eb_11ea_aac7_0242ac1c0002row6_col5\" class=\"data row6 col5\" >0.0411725</td>\n",
       "                        <td id=\"T_34777ebe_21eb_11ea_aac7_0242ac1c0002row6_col6\" class=\"data row6 col6\" >1</td>\n",
       "                        <td id=\"T_34777ebe_21eb_11ea_aac7_0242ac1c0002row6_col7\" class=\"data row6 col7\" >0.00824055</td>\n",
       "                        <td id=\"T_34777ebe_21eb_11ea_aac7_0242ac1c0002row6_col8\" class=\"data row6 col8\" >0.149894</td>\n",
       "            </tr>\n",
       "            <tr>\n",
       "                        <th id=\"T_34777ebe_21eb_11ea_aac7_0242ac1c0002level0_row7\" class=\"row_heading level0 row7\" >tempo</th>\n",
       "                        <td id=\"T_34777ebe_21eb_11ea_aac7_0242ac1c0002row7_col0\" class=\"data row7 col0\" >-0.0253918</td>\n",
       "                        <td id=\"T_34777ebe_21eb_11ea_aac7_0242ac1c0002row7_col1\" class=\"data row7 col1\" >-0.0263097</td>\n",
       "                        <td id=\"T_34777ebe_21eb_11ea_aac7_0242ac1c0002row7_col2\" class=\"data row7 col2\" >-0.242089</td>\n",
       "                        <td id=\"T_34777ebe_21eb_11ea_aac7_0242ac1c0002row7_col3\" class=\"data row7 col3\" >0.195227</td>\n",
       "                        <td id=\"T_34777ebe_21eb_11ea_aac7_0242ac1c0002row7_col4\" class=\"data row7 col4\" >0.022215</td>\n",
       "                        <td id=\"T_34777ebe_21eb_11ea_aac7_0242ac1c0002row7_col5\" class=\"data row7 col5\" >0.00273169</td>\n",
       "                        <td id=\"T_34777ebe_21eb_11ea_aac7_0242ac1c0002row7_col6\" class=\"data row7 col6\" >0.00824055</td>\n",
       "                        <td id=\"T_34777ebe_21eb_11ea_aac7_0242ac1c0002row7_col7\" class=\"data row7 col7\" >1</td>\n",
       "                        <td id=\"T_34777ebe_21eb_11ea_aac7_0242ac1c0002row7_col8\" class=\"data row7 col8\" >0.0522212</td>\n",
       "            </tr>\n",
       "            <tr>\n",
       "                        <th id=\"T_34777ebe_21eb_11ea_aac7_0242ac1c0002level0_row8\" class=\"row_heading level0 row8\" >valence</th>\n",
       "                        <td id=\"T_34777ebe_21eb_11ea_aac7_0242ac1c0002row8_col0\" class=\"data row8 col0\" >0.0100698</td>\n",
       "                        <td id=\"T_34777ebe_21eb_11ea_aac7_0242ac1c0002row8_col1\" class=\"data row8 col1\" >-0.0138406</td>\n",
       "                        <td id=\"T_34777ebe_21eb_11ea_aac7_0242ac1c0002row8_col2\" class=\"data row8 col2\" >0.473165</td>\n",
       "                        <td id=\"T_34777ebe_21eb_11ea_aac7_0242ac1c0002row8_col3\" class=\"data row8 col3\" >0.0386027</td>\n",
       "                        <td id=\"T_34777ebe_21eb_11ea_aac7_0242ac1c0002row8_col4\" class=\"data row8 col4\" >-0.219967</td>\n",
       "                        <td id=\"T_34777ebe_21eb_11ea_aac7_0242ac1c0002row8_col5\" class=\"data row8 col5\" >-0.0450931</td>\n",
       "                        <td id=\"T_34777ebe_21eb_11ea_aac7_0242ac1c0002row8_col6\" class=\"data row8 col6\" >0.149894</td>\n",
       "                        <td id=\"T_34777ebe_21eb_11ea_aac7_0242ac1c0002row8_col7\" class=\"data row8 col7\" >0.0522212</td>\n",
       "                        <td id=\"T_34777ebe_21eb_11ea_aac7_0242ac1c0002row8_col8\" class=\"data row8 col8\" >1</td>\n",
       "            </tr>\n",
       "    </tbody></table>"
      ],
      "text/plain": [
       "<pandas.io.formats.style.Styler at 0x7ffa1a292c18>"
      ]
     },
     "execution_count": 20,
     "metadata": {
      "tags": []
     },
     "output_type": "execute_result"
    }
   ],
   "source": [
    "# делаем корреляционную матрицу\n",
    "corr_metrics = echo_tracks.corr()\n",
    "corr_metrics.style.background_gradient()"
   ]
  },
  {
   "cell_type": "code",
   "execution_count": null,
   "metadata": {
    "colab": {},
    "colab_type": "code",
    "dc": {
     "key": "17"
    },
    "id": "JQtMUsk7W4kP",
    "tags": [
     "sample_code"
    ]
   },
   "outputs": [],
   "source": [
    "# определяем признаки\n",
    "features = echo_tracks.drop(columns =['genre_top', 'track_id'], axis=1)\n",
    "\n",
    "# определяем таргет\n",
    "labels = echo_tracks['genre_top']\n",
    "\n",
    "from sklearn.preprocessing import StandardScaler\n",
    "\n",
    "# стандартизируем признаки\n",
    "scaler = StandardScaler()\n",
    "scaled_train_features = scaler.fit_transform(features)"
   ]
  },
  {
   "cell_type": "code",
   "execution_count": null,
   "metadata": {
    "colab": {},
    "colab_type": "code",
    "id": "AXGfsYUvQdoY"
   },
   "outputs": [],
   "source": []
  },
  {
   "cell_type": "code",
   "execution_count": null,
   "metadata": {
    "colab": {
     "base_uri": "https://localhost:8080/",
     "height": 403
    },
    "colab_type": "code",
    "dc": {
     "key": "24"
    },
    "executionInfo": {
     "elapsed": 1130,
     "status": "ok",
     "timestamp": 1576711133043,
     "user": {
      "displayName": "Мария Лазаренко",
      "photoUrl": "https://lh3.googleusercontent.com/a-/AAuE7mAxyLUCp2Ubw14ru4QtRXGyavQuiz6JTnclgQJNrw=s64",
      "userId": "14239114489254033998"
     },
     "user_tz": -180
    },
    "id": "QOhINmGiW4kU",
    "outputId": "2c800e18-c2b5-4478-e6b8-baa2928abe04",
    "tags": [
     "sample_code"
    ]
   },
   "outputs": [
    {
     "name": "stdout",
     "output_type": "stream",
     "text": [
      "Explained variance ratio : \n",
      "[0.24297674 0.18044316 0.13650309 0.12994089 0.11056248 0.08302245\n",
      " 0.06923783 0.04731336]\n",
      "\n",
      "\n",
      "Number of components = 8\n"
     ]
    },
    {
     "data": {
      "text/plain": [
       "Text(0.5, 0, 'PCA')"
      ]
     },
     "execution_count": 24,
     "metadata": {
      "tags": []
     },
     "output_type": "execute_result"
    },
    {
     "data": {
      "image/png": "[encoded data removed]",
      "text/plain": [
       "<Figure size 432x288 with 1 Axes>"
      ]
     },
     "metadata": {
      "tags": []
     },
     "output_type": "display_data"
    }
   ],
   "source": [
    "%matplotlib inline\n",
    "from matplotlib import pyplot as plt\n",
    "from sklearn.decomposition import PCA\n",
    "\n",
    "pca = PCA()\n",
    "pca.fit(scaled_train_features)\n",
    "exp_variance = pca.explained_variance_ratio_\n",
    "\n",
    "print(\"Explained variance ratio : \\n{}\".format(pca.explained_variance_ratio_))\n",
    "print(\"\\n\")\n",
    "print(\"Number of components = {}\".format(pca.n_components_))  \n",
    "\n",
    "\n",
    "fig, ax = plt.subplots()\n",
    "ax.plot(range(8), exp_variance, marker='o')\n",
    "ax.set_xlabel('PCA')\n"
   ]
  },
  {
   "cell_type": "code",
   "execution_count": null,
   "metadata": {
    "colab": {},
    "colab_type": "code",
    "id": "WnxHGwY6S5cI"
   },
   "outputs": [],
   "source": []
  },
  {
   "cell_type": "code",
   "execution_count": null,
   "metadata": {
    "colab": {},
    "colab_type": "code",
    "dc": {
     "key": "24"
    },
    "id": "E7IVlUxjW4kY",
    "outputId": "6e8a2dfd-2630-4ab0-f9b8-1bb3d3dd4af6"
   },
   "outputs": [
    {
     "name": "stdout",
     "output_type": "stream",
     "text": [
      "[0.24297674 0.18044316 0.13650309 0.12994089 0.11056248 0.08302245\n",
      " 0.06923783 0.04731336]\n"
     ]
    }
   ],
   "source": [
    "print(exp_variance)"
   ]
  },
  {
   "cell_type": "code",
   "execution_count": null,
   "metadata": {
    "colab": {
     "base_uri": "https://localhost:8080/",
     "height": 265
    },
    "colab_type": "code",
    "dc": {
     "key": "31"
    },
    "executionInfo": {
     "elapsed": 1088,
     "status": "ok",
     "timestamp": 1576712606853,
     "user": {
      "displayName": "Мария Лазаренко",
      "photoUrl": "https://lh3.googleusercontent.com/a-/AAuE7mAxyLUCp2Ubw14ru4QtRXGyavQuiz6JTnclgQJNrw=s64",
      "userId": "14239114489254033998"
     },
     "user_tz": -180
    },
    "id": "iOjhRNixW4kd",
    "outputId": "1967f9c6-7774-40dd-941b-3e65dc16fe06",
    "tags": [
     "sample_code"
    ]
   },
   "outputs": [
    {
     "data": {
      "image/png": "[encoded data removed]",
      "text/plain": [
       "<Figure size 432x288 with 1 Axes>"
      ]
     },
     "metadata": {
      "tags": []
     },
     "output_type": "display_data"
    }
   ],
   "source": [
    "import numpy as np\n",
    "\n",
    "#строим кумулятивный график\n",
    "\n",
    "cum_exp_variance = np.cumsum(exp_variance)\n",
    "\n",
    "fig, ax = plt.subplots()\n",
    "ax.plot(range(8), cum_exp_variance, marker='o')\n",
    "ax.axhline(y=0.9, linestyle='--')\n",
    "n_components = 6\n",
    "\n",
    "#делаем PCA еще раз, но с новым количеством компонент\n",
    "pca = PCA(n_components, random_state=10)\n",
    "pca.fit(scaled_train_features)\n",
    "pca_projection = pca.transform(scaled_train_features)"
   ]
  },
  {
   "cell_type": "code",
   "execution_count": null,
   "metadata": {
    "colab": {},
    "colab_type": "code",
    "dc": {
     "key": "38"
    },
    "id": "WlAEXiK3W4kj",
    "tags": [
     "sample_code"
    ]
   },
   "outputs": [],
   "source": [
    "from sklearn.model_selection import train_test_split\n",
    "from sklearn.tree import DecisionTreeClassifier\n",
    "\n",
    "train_features, test_features, train_labels, test_labels = train_test_split(pca_projection, labels, random_state=10)\n",
    "#обучаем дерево решений\n",
    "tree = DecisionTreeClassifier(random_state=10)\n",
    "tree.fit(train_features, train_labels)\n",
    "\n",
    "# предсказываем таргет\n",
    "pred_labels_tree = tree.predict(test_features)"
   ]
  },
  {
   "cell_type": "code",
   "execution_count": null,
   "metadata": {
    "colab": {
     "base_uri": "https://localhost:8080/",
     "height": 419
    },
    "colab_type": "code",
    "dc": {
     "key": "45"
    },
    "executionInfo": {
     "elapsed": 2199,
     "status": "ok",
     "timestamp": 1576713063669,
     "user": {
      "displayName": "Мария Лазаренко",
      "photoUrl": "https://lh3.googleusercontent.com/a-/AAuE7mAxyLUCp2Ubw14ru4QtRXGyavQuiz6JTnclgQJNrw=s64",
      "userId": "14239114489254033998"
     },
     "user_tz": -180
    },
    "id": "Te1gsLuTW4kp",
    "outputId": "cac08a32-676d-4448-dbde-2bded9318db6",
    "tags": [
     "sample_code"
    ]
   },
   "outputs": [
    {
     "name": "stdout",
     "output_type": "stream",
     "text": [
      "Decision Tree: \n",
      "               precision    recall  f1-score   support\n",
      "\n",
      "     Hip-Hop       0.60      0.60      0.60       235\n",
      "        Rock       0.90      0.90      0.90       966\n",
      "\n",
      "    accuracy                           0.84      1201\n",
      "   macro avg       0.75      0.75      0.75      1201\n",
      "weighted avg       0.84      0.84      0.84      1201\n",
      "\n",
      "Logistic Regression: \n",
      "               precision    recall  f1-score   support\n",
      "\n",
      "     Hip-Hop       0.77      0.54      0.64       235\n",
      "        Rock       0.90      0.96      0.93       966\n",
      "\n",
      "    accuracy                           0.88      1201\n",
      "   macro avg       0.83      0.75      0.78      1201\n",
      "weighted avg       0.87      0.88      0.87      1201\n",
      "\n"
     ]
    },
    {
     "name": "stderr",
     "output_type": "stream",
     "text": [
      "/usr/local/lib/python3.6/dist-packages/sklearn/linear_model/logistic.py:432: FutureWarning: Default solver will be changed to 'lbfgs' in 0.22. Specify a solver to silence this warning.\n",
      "  FutureWarning)\n"
     ]
    }
   ],
   "source": [
    "from sklearn.linear_model import LogisticRegression\n",
    "\n",
    "#обучаем логистическую регрессию\n",
    "logreg = LogisticRegression()\n",
    "logreg.fit(train_features, train_labels)\n",
    "pred_labels_logit = logreg.predict(test_features)\n",
    "\n",
    "#создаём classification_report для обеих моделей\n",
    "from sklearn.metrics import classification_report\n",
    "class_rep_tree = classification_report(test_labels, pred_labels_tree)\n",
    "class_rep_log = classification_report(test_labels, pred_labels_logit)\n",
    "\n",
    "print(\"Decision Tree: \\n\", class_rep_tree)\n",
    "print(\"Logistic Regression: \\n\", class_rep_log)"
   ]
  },
  {
   "cell_type": "code",
   "execution_count": null,
   "metadata": {
    "colab": {},
    "colab_type": "code",
    "dc": {
     "key": "52"
    },
    "id": "2_yw9-TLW4kv",
    "tags": [
     "sample_code"
    ]
   },
   "outputs": [],
   "source": [
    "# разделяем таргет отдельно на хип-хоп, отдельно на рок, чтобы сбалансировать данные\n",
    "hop_only = echo_tracks.loc[echo_tracks[\"genre_top\"] == \"Hip-Hop\"]\n",
    "\n",
    "# делаем рока столько же, сколько и хип-хопа\n",
    "rock_only = echo_tracks.loc[echo_tracks[\"genre_top\"] == \"Rock\"].sample(len(hop_only), random_state=10)\n",
    "\n",
    "#конкатенируем\n",
    "rock_hop_bal = pd.concat([rock_only, hop_only])\n",
    "\n",
    "features = rock_hop_bal.drop(['genre_top', 'track_id'], axis=1) \n",
    "labels = rock_hop_bal['genre_top']\n",
    "pca_projection = pca.fit_transform(scaler.fit_transform(features))\n",
    "train_features, test_features, train_labels, test_labels = train_test_split(pca_projection, labels, random_state=10)"
   ]
  },
  {
   "cell_type": "code",
   "execution_count": null,
   "metadata": {
    "colab": {
     "base_uri": "https://localhost:8080/",
     "height": 419
    },
    "colab_type": "code",
    "dc": {
     "key": "59"
    },
    "executionInfo": {
     "elapsed": 1085,
     "status": "ok",
     "timestamp": 1576713980951,
     "user": {
      "displayName": "Мария Лазаренко",
      "photoUrl": "https://lh3.googleusercontent.com/a-/AAuE7mAxyLUCp2Ubw14ru4QtRXGyavQuiz6JTnclgQJNrw=s64",
      "userId": "14239114489254033998"
     },
     "user_tz": -180
    },
    "id": "inLNH1-mW4k0",
    "outputId": "f8fa503c-8b6a-4f40-eec3-974e1d6b6537",
    "tags": [
     "sample_code"
    ]
   },
   "outputs": [
    {
     "name": "stdout",
     "output_type": "stream",
     "text": [
      "Decision Tree: \n",
      "               precision    recall  f1-score   support\n",
      "\n",
      "     Hip-Hop       0.74      0.73      0.74       230\n",
      "        Rock       0.73      0.74      0.73       225\n",
      "\n",
      "    accuracy                           0.74       455\n",
      "   macro avg       0.74      0.74      0.74       455\n",
      "weighted avg       0.74      0.74      0.74       455\n",
      "\n",
      "Logistic Regression: \n",
      "               precision    recall  f1-score   support\n",
      "\n",
      "     Hip-Hop       0.84      0.80      0.82       230\n",
      "        Rock       0.80      0.85      0.83       225\n",
      "\n",
      "    accuracy                           0.82       455\n",
      "   macro avg       0.82      0.82      0.82       455\n",
      "weighted avg       0.82      0.82      0.82       455\n",
      "\n"
     ]
    },
    {
     "name": "stderr",
     "output_type": "stream",
     "text": [
      "/usr/local/lib/python3.6/dist-packages/sklearn/linear_model/logistic.py:432: FutureWarning: Default solver will be changed to 'lbfgs' in 0.22. Specify a solver to silence this warning.\n",
      "  FutureWarning)\n"
     ]
    }
   ],
   "source": [
    "tree = DecisionTreeClassifier(random_state=10)\n",
    "tree.fit(train_features, train_labels)\n",
    "pred_labels_tree = tree.predict(test_features)\n",
    "\n",
    "logreg = LogisticRegression(random_state=10)\n",
    "logreg.fit(train_features, train_labels)\n",
    "pred_labels_logit = logreg.predict(test_features)\n",
    "\n",
    "print(\"Decision Tree: \\n\", classification_report(test_labels, pred_labels_tree))\n",
    "print(\"Logistic Regression: \\n\", classification_report(test_labels, pred_labels_logit))"
   ]
  },
  {
   "cell_type": "code",
   "execution_count": null,
   "metadata": {
    "colab": {
     "base_uri": "https://localhost:8080/",
     "height": 401
    },
    "colab_type": "code",
    "dc": {
     "key": "66"
    },
    "executionInfo": {
     "elapsed": 1763,
     "status": "ok",
     "timestamp": 1576714312037,
     "user": {
      "displayName": "Мария Лазаренко",
      "photoUrl": "https://lh3.googleusercontent.com/a-/AAuE7mAxyLUCp2Ubw14ru4QtRXGyavQuiz6JTnclgQJNrw=s64",
      "userId": "14239114489254033998"
     },
     "user_tz": -180
    },
    "id": "dNx4MFbNW4k5",
    "outputId": "ed445a8d-5247-4a96-9b92-81db4bc22088",
    "tags": [
     "sample_code"
    ]
   },
   "outputs": [
    {
     "name": "stdout",
     "output_type": "stream",
     "text": [
      "Decision Tree: 0.7489010989010989 Logistic Regression: 0.782967032967033\n"
     ]
    },
    {
     "name": "stderr",
     "output_type": "stream",
     "text": [
      "/usr/local/lib/python3.6/dist-packages/sklearn/linear_model/logistic.py:432: FutureWarning: Default solver will be changed to 'lbfgs' in 0.22. Specify a solver to silence this warning.\n",
      "  FutureWarning)\n",
      "/usr/local/lib/python3.6/dist-packages/sklearn/linear_model/logistic.py:432: FutureWarning: Default solver will be changed to 'lbfgs' in 0.22. Specify a solver to silence this warning.\n",
      "  FutureWarning)\n",
      "/usr/local/lib/python3.6/dist-packages/sklearn/linear_model/logistic.py:432: FutureWarning: Default solver will be changed to 'lbfgs' in 0.22. Specify a solver to silence this warning.\n",
      "  FutureWarning)\n",
      "/usr/local/lib/python3.6/dist-packages/sklearn/linear_model/logistic.py:432: FutureWarning: Default solver will be changed to 'lbfgs' in 0.22. Specify a solver to silence this warning.\n",
      "  FutureWarning)\n",
      "/usr/local/lib/python3.6/dist-packages/sklearn/linear_model/logistic.py:432: FutureWarning: Default solver will be changed to 'lbfgs' in 0.22. Specify a solver to silence this warning.\n",
      "  FutureWarning)\n",
      "/usr/local/lib/python3.6/dist-packages/sklearn/linear_model/logistic.py:432: FutureWarning: Default solver will be changed to 'lbfgs' in 0.22. Specify a solver to silence this warning.\n",
      "  FutureWarning)\n",
      "/usr/local/lib/python3.6/dist-packages/sklearn/linear_model/logistic.py:432: FutureWarning: Default solver will be changed to 'lbfgs' in 0.22. Specify a solver to silence this warning.\n",
      "  FutureWarning)\n",
      "/usr/local/lib/python3.6/dist-packages/sklearn/linear_model/logistic.py:432: FutureWarning: Default solver will be changed to 'lbfgs' in 0.22. Specify a solver to silence this warning.\n",
      "  FutureWarning)\n",
      "/usr/local/lib/python3.6/dist-packages/sklearn/linear_model/logistic.py:432: FutureWarning: Default solver will be changed to 'lbfgs' in 0.22. Specify a solver to silence this warning.\n",
      "  FutureWarning)\n",
      "/usr/local/lib/python3.6/dist-packages/sklearn/linear_model/logistic.py:432: FutureWarning: Default solver will be changed to 'lbfgs' in 0.22. Specify a solver to silence this warning.\n",
      "  FutureWarning)\n"
     ]
    }
   ],
   "source": [
    "from sklearn.model_selection import KFold, cross_val_score\n",
    "\n",
    "# делаем K-fold кросс-валидацию\n",
    "kf = KFold(n_splits=10, random_state=10)\n",
    "\n",
    "tree = DecisionTreeClassifier(random_state=10)\n",
    "logreg = LogisticRegression(random_state=10)\n",
    "\n",
    "tree_score = cross_val_score(tree, pca_projection, labels, cv=kf)\n",
    "logit_score = cross_val_score(logreg, pca_projection, labels, cv=kf)\n",
    "\n",
    "print(\"Decision Tree:\", np.mean(tree_score), \"Logistic Regression:\", np.mean(logit_score))"
   ]
  }
 ],
 "metadata": {
  "colab": {
   "collapsed_sections": [],
   "name": "classifying_song_genres.ipynb",
   "provenance": []
  },
  "kernelspec": {
   "display_name": "Python 3",
   "language": "python",
   "name": "python3"
  },
  "language_info": {
   "codemirror_mode": {
    "name": "ipython",
    "version": 3
   },
   "file_extension": ".py",
   "mimetype": "text/x-python",
   "name": "python",
   "nbconvert_exporter": "python",
   "pygments_lexer": "ipython3",
   "version": "3.7.4"
  }
 },
 "nbformat": 4,
 "nbformat_minor": 1
}
